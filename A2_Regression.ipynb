{
  "cells": [
    {
      "cell_type": "markdown",
      "id": "1a8ebf53-520f-45ca-b9ae-29a3c45cc3c5",
      "metadata": {
        "id": "1a8ebf53-520f-45ca-b9ae-29a3c45cc3c5"
      },
      "source": [
        "## Regression"
      ]
    },
    {
      "cell_type": "code",
      "execution_count": null,
      "id": "4e43c7f6-6100-4915-80da-22c0e368a9ac",
      "metadata": {
        "id": "4e43c7f6-6100-4915-80da-22c0e368a9ac",
        "outputId": "c457ebd4-fa06-4448-c65a-c7666b5aeb59"
      },
      "outputs": [
        {
          "data": {
            "image/png": "[encoded data removed]",
            "text/plain": [
              "<Figure size 432x288 with 1 Axes>"
            ]
          },
          "metadata": {
            "needs_background": "light"
          },
          "output_type": "display_data"
        }
      ],
      "source": [
        "%matplotlib notebook\n",
        "%matplotlib inline\n",
        "\n",
        "import numpy as np\n",
        "import pandas as pd\n",
        "import matplotlib.pyplot as plt\n",
        "from sklearn.model_selection import train_test_split\n",
        "\n",
        "\n",
        "np.random.seed(0)\n",
        "n = 15\n",
        "x = np.linspace(0,10,n) + np.random.randn(n)/5\n",
        "y = np.sin(x)+x/6 + np.random.randn(n)/10\n",
        "\n",
        "\n",
        "X_train, X_test, y_train, y_test = train_test_split(x, y, random_state=0)\n",
        "\n",
        "\n",
        "plt.figure()\n",
        "plt.scatter(X_train, y_train, label='training data')\n",
        "plt.scatter(X_test, y_test, label='test data')\n",
        "plt.legend(loc=4);"
      ]
    },
    {
      "cell_type": "markdown",
      "id": "2e607277-9341-4224-ab08-1358bbbf0646",
      "metadata": {
        "id": "2e607277-9341-4224-ab08-1358bbbf0646"
      },
      "source": [
        "### Question 1.1\n",
        "Write a function that fits a polynomial LinearRegression model on the training data X_train for degrees 1, 3, 6, and 9. (Use PolynomialFeatures in sklearn.preprocessing to create the polynomial features and then fit a linear regression model) For each model, find 100 predicted values over the interval x = 0 to 10 (e.g. np.linspace(0,10,100)) and store this in a numpy array. The first row of this array should correspond to the output from the model trained on degree 1, the second row degree 3, the third row degree 6, and the fourth row degree 9."
      ]
    },
    {
      "cell_type": "code",
      "execution_count": null,
      "id": "fb627030-cdbf-4ca3-8aae-d1299c13a8bf",
      "metadata": {
        "id": "fb627030-cdbf-4ca3-8aae-d1299c13a8bf"
      },
      "outputs": [],
      "source": [
        "def answer_one():\n",
        "    from sklearn.linear_model import LinearRegression\n",
        "    from sklearn.preprocessing import PolynomialFeatures\n",
        "    \n",
        "    # your answer here\n",
        "    return # results"
      ]
    },
    {
      "cell_type": "markdown",
      "id": "f5bc45ee-5103-45c1-9190-efb9be138834",
      "metadata": {
        "id": "f5bc45ee-5103-45c1-9190-efb9be138834"
      },
      "source": [
        "### Fitted model plot"
      ]
    },
    {
      "cell_type": "code",
      "execution_count": null,
      "id": "d2195f91-2cc3-40fe-846e-cc3fc5f43426",
      "metadata": {
        "id": "d2195f91-2cc3-40fe-846e-cc3fc5f43426"
      },
      "outputs": [],
      "source": [
        "def plot_one(degree_predictions):\n",
        "    import matplotlib.pyplot as plt\n",
        "    plt.figure(figsize=(10,5))\n",
        "    plt.plot(X_train, y_train, 'o', label='training data', markersize=10)\n",
        "    plt.plot(X_test, y_test, 'o', label='test data', markersize=10)\n",
        "    for i,degree in enumerate([1,3,6,9]):\n",
        "        plt.plot(np.linspace(0,10,100), degree_predictions[i], alpha=0.8, lw=2, label='degree={}'.format(degree))\n",
        "    plt.ylim(-1,2.5)\n",
        "    plt.legend(loc=4)\n",
        "\n",
        "plot_one(answer_one())"
      ]
    },
    {
      "cell_type": "markdown",
      "id": "7e534f81-8e9c-48dd-b840-829166b32612",
      "metadata": {
        "id": "7e534f81-8e9c-48dd-b840-829166b32612"
      },
      "source": [
        "### Question 1.2\n",
        "Comment on the figure above"
      ]
    },
    {
      "cell_type": "markdown",
      "id": "754f72d1-798c-46d3-9a36-4de0af874e92",
      "metadata": {
        "id": "754f72d1-798c-46d3-9a36-4de0af874e92"
      },
      "source": [
        "### Quick note on $R^2$-score:\n",
        "Best possible score is 1.0 and it can be negative (because the model can be arbitrarily worse). A constant model that always predicts the expected value of y, disregarding the input features, would get a $R^2$-score of 0.0.\n",
        "\n",
        "### Question 2\n",
        "Write a function that fits a polynomial LinearRegression model on the training data `X_train` for degrees 0 through 9. For each model compute the $R^2$ regression score on the training data as well as the the test data, and return both of these arrays in a tuple.\n",
        "\n",
        "*This function should return one tuple of numpy arrays `(r2_train, r2_test)`. Both arrays should have shape `(10,)`*"
      ]
    },
    {
      "cell_type": "code",
      "execution_count": null,
      "id": "7a317990-858a-4ed6-bc4c-7a2ce385746a",
      "metadata": {
        "id": "7a317990-858a-4ed6-bc4c-7a2ce385746a"
      },
      "outputs": [],
      "source": [
        "def answer_two():\n",
        "    from sklearn.linear_model import LinearRegression\n",
        "    from sklearn.preprocessing import PolynomialFeatures\n",
        "    from sklearn.metrics.regression import r2_score\n",
        "\n",
        "    # your code here\n",
        "    return # answer here\n",
        "answer_two()"
      ]
    },
    {
      "cell_type": "markdown",
      "id": "62d15124-54d3-44d3-80cc-ec9efd7f18ec",
      "metadata": {
        "id": "62d15124-54d3-44d3-80cc-ec9efd7f18ec"
      },
      "source": [
        "### Question 3\n",
        "Plot $R^2$ scores at degrees from 0 to 9.\n",
        "\n",
        "Based on the $R^2$ scores (degree levels 0 through 9), what degree level corresponds to a model that is underfitting? What degree level corresponds to a model that is overfitting? What choice of degree level would provide a model with good generalization performance on this dataset? "
      ]
    },
    {
      "cell_type": "code",
      "execution_count": null,
      "id": "9144583b-b878-4eaa-8860-8860b933ec23",
      "metadata": {
        "id": "9144583b-b878-4eaa-8860-8860b933ec23"
      },
      "outputs": [],
      "source": [
        ""
      ]
    },
    {
      "cell_type": "markdown",
      "id": "9639d156-3294-4eff-8042-2617d01aa163",
      "metadata": {
        "id": "9639d156-3294-4eff-8042-2617d01aa163"
      },
      "source": [
        "### Question 4\n",
        "\n",
        "Training models on high degree polynomial features can result in overly complex models that overfit, so we often use regularized versions of the model to constrain model complexity, as we saw with Ridge and Lasso linear regression.\n",
        "\n",
        "For this question, train two models: a non-regularized LinearRegression model (default parameters) and a regularized Lasso Regression model (with parameters `alpha=0.01`, `max_iter=10000`) both on polynomial features of degree 12. Return the $R^2$ score for both the LinearRegression and Lasso model's test sets.\n",
        "\n",
        "*This function should return one tuple `(LinearRegression_R2_test_score, Lasso_R2_test_score)`*\n",
        "\n",
        "**Comment on the results**"
      ]
    },
    {
      "cell_type": "code",
      "execution_count": null,
      "id": "955af3a4-c485-499b-999e-5db09dbfeb25",
      "metadata": {
        "id": "955af3a4-c485-499b-999e-5db09dbfeb25"
      },
      "outputs": [],
      "source": [
        "def answer_four():\n",
        "    from sklearn.preprocessing import PolynomialFeatures\n",
        "    from sklearn.linear_model import Lasso, LinearRegression\n",
        "    from sklearn.metrics.regression import r2_score\n",
        "    \n",
        "    # your code here\n",
        "\n",
        "    return # results\n",
        "answer_four()"
      ]
    },
    {
      "cell_type": "markdown",
      "id": "670d7fc9-9c5a-4c69-84af-80f77afcd285",
      "metadata": {
        "id": "670d7fc9-9c5a-4c69-84af-80f77afcd285"
      },
      "source": [
        "### Question 5\n",
        "Calculate total mean square error.\n",
        "$$\n",
        "MSE = E[ (ytrue  - yhat)^2 ] \n",
        "$$\n",
        "\n",
        "Then compare your results with scikit-learn implementation of mean square error."
      ]
    },
    {
      "cell_type": "code",
      "execution_count": null,
      "id": "7533c60a-ddb7-4603-93be-0a5a6d528899",
      "metadata": {
        "id": "7533c60a-ddb7-4603-93be-0a5a6d528899"
      },
      "outputs": [],
      "source": [
        "def mse(y_true, y_pred):\n",
        "    ########### write code here #############\n",
        "    return error"
      ]
    },
    {
      "cell_type": "markdown",
      "id": "7edf7ed9-d215-4e80-be58-cc78711aa4cb",
      "metadata": {
        "id": "7edf7ed9-d215-4e80-be58-cc78711aa4cb"
      },
      "source": [
        "### Question 6\n",
        "Implement a linear regression class that can be used by one of the following three optoins (according to user's choice):\n",
        "1. Ordinary Linear Regression Class \n",
        "2. Implement Ridge Regression Class\n",
        "3. Implement Lasso Regression Class"
      ]
    },
    {
      "cell_type": "code",
      "execution_count": null,
      "id": "42fe1d16-63ab-45b9-8c96-b08aa5509720",
      "metadata": {
        "id": "42fe1d16-63ab-45b9-8c96-b08aa5509720"
      },
      "outputs": [],
      "source": [
        ""
      ]
    },
    {
      "cell_type": "markdown",
      "source": [
        "### Part 2\n",
        "Run the following cells to download fmnist dataset which will be used for the rest of the assignment."
      ],
      "metadata": {
        "id": "emmYg8T0Le4b"
      },
      "id": "emmYg8T0Le4b"
    },
    {
      "cell_type": "code",
      "execution_count": 2,
      "metadata": {
        "id": "YlU30eQGJzrn",
        "colab": {
          "base_uri": "https://localhost:8080/"
        },
        "outputId": "693ba550-5c43-46db-c155-e512dc21c65e"
      },
      "outputs": [
        {
          "output_type": "stream",
          "name": "stdout",
          "text": [
            "Requirement already satisfied: openml in /usr/local/lib/python3.7/dist-packages (0.12.2)\n",
            "Requirement already satisfied: pyarrow in /usr/local/lib/python3.7/dist-packages (from openml) (6.0.1)\n",
            "Requirement already satisfied: numpy>=1.6.2 in /usr/local/lib/python3.7/dist-packages (from openml) (1.21.5)\n",
            "Requirement already satisfied: scikit-learn>=0.18 in /usr/local/lib/python3.7/dist-packages (from openml) (1.0.2)\n",
            "Requirement already satisfied: xmltodict in /usr/local/lib/python3.7/dist-packages (from openml) (0.12.0)\n",
            "Requirement already satisfied: python-dateutil in /usr/local/lib/python3.7/dist-packages (from openml) (2.8.2)\n",
            "Requirement already satisfied: minio in /usr/local/lib/python3.7/dist-packages (from openml) (7.1.5)\n",
            "Requirement already satisfied: liac-arff>=2.4.0 in /usr/local/lib/python3.7/dist-packages (from openml) (2.5.0)\n",
            "Requirement already satisfied: requests in /usr/local/lib/python3.7/dist-packages (from openml) (2.23.0)\n",
            "Requirement already satisfied: pandas>=1.0.0 in /usr/local/lib/python3.7/dist-packages (from openml) (1.3.5)\n",
            "Requirement already satisfied: scipy>=0.13.3 in /usr/local/lib/python3.7/dist-packages (from openml) (1.4.1)\n",
            "Requirement already satisfied: pytz>=2017.3 in /usr/local/lib/python3.7/dist-packages (from pandas>=1.0.0->openml) (2018.9)\n",
            "Requirement already satisfied: six>=1.5 in /usr/local/lib/python3.7/dist-packages (from python-dateutil->openml) (1.15.0)\n",
            "Requirement already satisfied: threadpoolctl>=2.0.0 in /usr/local/lib/python3.7/dist-packages (from scikit-learn>=0.18->openml) (3.1.0)\n",
            "Requirement already satisfied: joblib>=0.11 in /usr/local/lib/python3.7/dist-packages (from scikit-learn>=0.18->openml) (1.1.0)\n",
            "Requirement already satisfied: urllib3 in /usr/local/lib/python3.7/dist-packages (from minio->openml) (1.24.3)\n",
            "Requirement already satisfied: certifi in /usr/local/lib/python3.7/dist-packages (from minio->openml) (2021.10.8)\n",
            "Requirement already satisfied: idna<3,>=2.5 in /usr/local/lib/python3.7/dist-packages (from requests->openml) (2.10)\n",
            "Requirement already satisfied: chardet<4,>=3.0.2 in /usr/local/lib/python3.7/dist-packages (from requests->openml) (3.0.4)\n"
          ]
        }
      ],
      "source": [
        "!pip install openml\n",
        "\n",
        "# General imports\n",
        "%matplotlib inline\n",
        "import numpy as np\n",
        "import pandas as pd\n",
        "import matplotlib.pyplot as plt\n",
        "import openml as oml\n",
        "from matplotlib import cm\n"
      ],
      "id": "YlU30eQGJzrn"
    },
    {
      "cell_type": "code",
      "execution_count": 3,
      "metadata": {
        "id": "tWkS5GDaJzrt"
      },
      "outputs": [],
      "source": [
        "# Download FMINST data. Takes a while the first time.\n",
        "fmnist = oml.datasets.get_dataset(40996)\n",
        "X, y, _, _ = fmnist.get_data(target=fmnist.default_target_attribute); \n",
        "fmnist_classes = {0:\"T-shirt/top\", 1: \"Trouser\", 2: \"Pullover\", 3: \"Dress\", 4: \"Coat\", 5: \"Sandal\", \n",
        "                  6: \"Shirt\", 7: \"Sneaker\", 8: \"Bag\", 9: \"Ankle boot\"}"
      ],
      "id": "tWkS5GDaJzrt"
    },
    {
      "cell_type": "code",
      "execution_count": null,
      "metadata": {
        "id": "GcdPzEL3Jzrv",
        "outputId": "a8db4230-1339-48dd-98de-f3cd921b1dc7"
      },
      "outputs": [
        {
          "data": {
            "application/pdf": "[encoded data removed]",
            "image/png": "[encoded data removed]",
            "text/plain": [
              "<Figure size 720x360 with 5 Axes>"
            ]
          },
          "metadata": {},
          "output_type": "display_data"
        }
      ],
      "source": [
        "# Take some random examples, reshape to a 32x32 image and plot\n",
        "from random import randint\n",
        "fig, axes = plt.subplots(1, 5,  figsize=(10, 5))\n",
        "for i in range(5):\n",
        "    n = randint(0,70000)\n",
        "    axes[i].imshow(X.values[n].reshape(28, 28), cmap=plt.cm.gray_r)\n",
        "    axes[i].set_xlabel((fmnist_classes[int(y.values[n])]))\n",
        "    axes[i].set_xticks(()), axes[i].set_yticks(())\n",
        "plt.show();"
      ],
      "id": "GcdPzEL3Jzrv"
    },
    {
      "cell_type": "markdown",
      "metadata": {
        "id": "oS5IKHcQJzr0"
      },
      "source": [
        "### Question 7\n",
        "First, we'll try the default Logistic Regression and k-Nearest Neighbors as a point of reference. To see whether our models are overfitting, we also evaluate the training set error. This can be done using cross_validation.\n",
        "\n",
        "Implement the following `evaluate_learners` function which evaluates each classifier passed into it on the given data, and then returns both the train and test scores of each as a list. You must use `cross_validate` function."
      ],
      "id": "oS5IKHcQJzr0"
    },
    {
      "cell_type": "code",
      "execution_count": null,
      "metadata": {
        "id": "9PbuKzv0Jzr2"
      },
      "outputs": [],
      "source": [
        "from sklearn.model_selection import train_test_split, cross_validate\n",
        "from sklearn.linear_model import LogisticRegression\n",
        "from sklearn.neighbors import KNeighborsClassifier\n",
        "\n",
        "# Take a 10% stratified subsample to speed up experimentation\n",
        "Xs, _, ys, _ = train_test_split(X,y, stratify=y, train_size=0.1)"
      ],
      "id": "9PbuKzv0Jzr2"
    },
    {
      "cell_type": "code",
      "source": [
        "def evaluate_learners(classifiers, X, y):\n",
        "    \"\"\" Evaluate each classifier in 'classifiers' with cross-validation on the provided (X, y) data. \n",
        "    \n",
        "    Given a list of scikit-learn classifiers [Classifier1, Classifier2, ..., ClassifierN] return two lists:\n",
        "     - a list with the scores obtained on the training samples for each classifier,\n",
        "     - a list with the test scores obtained on the test samples for each classifier.\n",
        "     The order of scores should match the order in which the classifiers were originally provided. E.g.:     \n",
        "     [Classifier1 train score, ..., ClassifierN train score], [Classifier1 test score, ..., ClassifierN test score]\n",
        "    \"\"\"\n",
        "    ########## write your code here ##############\n",
        "\n",
        "# # Example output:\n",
        "# train_scores, test_scores = ([[0.92 , 0.924, 0.916, 0.917, 0.921],  # Classifier 1 train score for each of 5 folds.\n",
        "#                               [0.963, 0.962, 0.953, 0.912, 0.934],  # Classifier 2 train score for each of 5 folds.\n",
        "#                              [[0.801, 0.811, 0.806, 0.826, 0.804],  # Classifier 1 test score for each of 5 folds.\n",
        "#                               [0.766, 0.756, 0.773, 0.756, 0.741],  # Classifier 2 test score for each of 5 folds."
      ],
      "metadata": {
        "id": "3hCChU5eNZZh"
      },
      "id": "3hCChU5eNZZh",
      "execution_count": null,
      "outputs": []
    },
    {
      "cell_type": "markdown",
      "metadata": {
        "id": "ulrYcGL0Jzr5"
      },
      "source": [
        "With this small sample of our data we can now train and evaluate the two classifiers."
      ],
      "id": "ulrYcGL0Jzr5"
    },
    {
      "cell_type": "code",
      "execution_count": null,
      "metadata": {
        "id": "vxjpMG0yJzsG"
      },
      "outputs": [],
      "source": [
        "classifiers = [LogisticRegression(), KNeighborsClassifier()]\n",
        "train_scores, test_scores = evaluate_learners(classifiers, Xs, ys)"
      ],
      "id": "vxjpMG0yJzsG"
    },
    {
      "cell_type": "markdown",
      "source": [
        "Print train scores and test scores."
      ],
      "metadata": {
        "id": "xVcekWmyOGcr"
      },
      "id": "xVcekWmyOGcr"
    },
    {
      "cell_type": "code",
      "source": [
        ""
      ],
      "metadata": {
        "id": "A18q8L6POFLS"
      },
      "id": "A18q8L6POFLS",
      "execution_count": null,
      "outputs": []
    },
    {
      "cell_type": "markdown",
      "metadata": {
        "id": "EfdOLXjqJzsL"
      },
      "source": [
        "### Regularization\n",
        "We will now tune these algorithm's main regularization hyperparameter: the regularization parameter in logistic regression (alpha), and the number of neighbors (n_neighbors) in kNN. We expect the optimum for n_neighbors between 1 and 50. Alpha should be varied on a log scale (i.e. [0.01, 0.1, 1, 10, 100]) and k should be varied uniformly (i.e. [1,2,3,4])."
      ],
      "id": "EfdOLXjqJzsL"
    },
    {
      "cell_type": "markdown",
      "metadata": {
        "id": "yYKvKt7dJzsM"
      },
      "source": [
        "### Question 8\n",
        "In the following cells we vary the regularization parameters in the range given above and, for each classifier, we create a line plot that plots both the training and test score for every value of the regularization hyperparameter. Hence, 2 plots are produced, one for each classifier. We use 5-fold cross validation for all scores, but only plot the means.\n"
      ],
      "id": "yYKvKt7dJzsM"
    },
    {
      "cell_type": "code",
      "execution_count": 4,
      "metadata": {
        "id": "10V7DVZHJzsO"
      },
      "outputs": [],
      "source": [
        "from sklearn.model_selection import GridSearchCV\n",
        "\n",
        "param_c = {'C': np.logspace(-12, 12, num=22)}\n",
        "param_k = {'n_neighbors': np.geomspace(1, 60, num=12, dtype=int)[1:]}\n",
        "grids = [param_c, param_k]\n",
        "grid_searches = [GridSearchCV(clf, grid, n_jobs=-1, cv=3, return_train_score=True).fit(Xs, ys) for clf,grid in zip(classifiers,grids)]"
      ],
      "id": "10V7DVZHJzsO"
    },
    {
      "cell_type": "code",
      "execution_count": null,
      "metadata": {
        "id": "ODTYQLiDJzsP"
      },
      "outputs": [],
      "source": [
        "# Generic plot for 1D grid search\n",
        "# grid_search: the result of the GridSearchCV\n",
        "# param_name: the name of the parameter that is being varied\n",
        "def plot_tuning(grid_search, param_name, ax):\n",
        "    ax.plot(grid_search.param_grid[param_name], grid_search.cv_results_['mean_test_score'], marker = '.', label = 'Test score')\n",
        "    ax.plot(grid_search.param_grid[param_name], grid_search.cv_results_['mean_train_score'], marker = '.', label = 'Train score')\n",
        "    ax.set_ylabel('score (ACC)')\n",
        "    ax.set_xlabel(param_name)\n",
        "    ax.legend()\n",
        "    ax.set_xscale('log')\n",
        "    ax.set_title(grid_search.best_estimator_.__class__.__name__)\n",
        "    bp, bs = grid_search.best_params_[param_name], grid_search.best_score_\n",
        "    ax.text(bp,bs,\"  C:{:.2E}, ACC:{:.4f}\".format(bp,bs))"
      ],
      "id": "ODTYQLiDJzsP"
    },
    {
      "cell_type": "code",
      "execution_count": null,
      "metadata": {
        "id": "12Asy97BJzsQ"
      },
      "outputs": [],
      "source": [
        "fig, axes = plt.subplots(nrows=1, ncols=2, figsize=(15,5))\n",
        "for grid_search, param, ax in zip(grid_searches,['Alpha','n_neighbors'],axes):\n",
        "    plot_tuning(grid_search, param, ax)"
      ],
      "id": "12Asy97BJzsQ"
    },
    {
      "cell_type": "markdown",
      "metadata": {
        "id": "nDIaS4hdJzsR"
      },
      "source": [
        "Interpret the plots. When are the methods underfitting? When are they overfitting? How sensitive are they to the regularization hyperparameter?"
      ],
      "id": "nDIaS4hdJzsR"
    },
    {
      "cell_type": "markdown",
      "source": [
        ""
      ],
      "metadata": {
        "id": "Nkx3Tk6eQNZZ"
      },
      "id": "Nkx3Tk6eQNZZ"
    },
    {
      "cell_type": "markdown",
      "metadata": {
        "id": "M38w43WMJzsT"
      },
      "source": [
        "## Interpreting misclassifications\n",
        "We train a logistic regression model on the data to look at the confusion matrix"
      ],
      "id": "M38w43WMJzsT"
    },
    {
      "cell_type": "code",
      "execution_count": null,
      "metadata": {
        "id": "e053mAmiJzsT"
      },
      "outputs": [],
      "source": [
        "# Create a stratified train-test split on a sample\n",
        "X_train, X_test, y_train, y_test = train_test_split(Xs,ys, stratify=ys, random_state=0)"
      ],
      "id": "e053mAmiJzsT"
    },
    {
      "cell_type": "code",
      "execution_count": null,
      "metadata": {
        "id": "CtKoZLYuJzsV"
      },
      "outputs": [],
      "source": [
        "# model implementation:\n",
        "model = LogisticRegression(C=1e-7).fit(X_train,y_train)\n",
        "y_pred = model.predict(X_test)"
      ],
      "id": "CtKoZLYuJzsV"
    },
    {
      "cell_type": "markdown",
      "metadata": {
        "id": "DWVZMBfvJzsZ"
      },
      "source": [
        "### Question 9\n",
        "A confusion matrix shows the amount of examples in for each pair of true and predicted classes. Interpret the results. Draw the complete confusion matrix for the true and predicted test data."
      ],
      "id": "DWVZMBfvJzsZ"
    },
    {
      "cell_type": "code",
      "source": [
        "#### Code for calculating the confusion matrix\n",
        "cm = ################"
      ],
      "metadata": {
        "id": "zr_wfcVvR_D5"
      },
      "id": "zr_wfcVvR_D5",
      "execution_count": null,
      "outputs": []
    },
    {
      "cell_type": "code",
      "execution_count": null,
      "metadata": {
        "id": "vX-Tp2KMJzsZ"
      },
      "outputs": [],
      "source": [
        "fig, ax = plt.subplots()\n",
        "im = ax.imshow(cm)\n",
        "ax.set_xticks(np.arange(10)), ax.set_yticks(np.arange(10))\n",
        "ax.set_xticklabels(list(fmnist_classes.values()), rotation=45, ha=\"right\")\n",
        "ax.set_yticklabels(list(fmnist_classes.values()))\n",
        "ax.set_ylabel('True')\n",
        "ax.set_xlabel('Predicted')\n",
        "for i in range(100):\n",
        "    ax.text(int(i/10),i%10,cm[i%10,int(i/10)], ha=\"center\", va=\"center\", color=\"w\")"
      ],
      "id": "vX-Tp2KMJzsZ"
    },
    {
      "cell_type": "markdown",
      "metadata": {
        "id": "gDTeVUEGJzsc"
      },
      "source": [
        "## Interpreting model parameters\n",
        "Finally, we'll take a closer look at the model parameters, i.e. the coefficients of our linear models. Since we are dealing with 28x28 pixel images, we have to learn 784 coefficients. What do these coefficients mean? We'll start by plotting them as 28x28 pixel images."
      ],
      "id": "gDTeVUEGJzsc"
    },
    {
      "cell_type": "markdown",
      "metadata": {
        "id": "shLuvJvWJzsc"
      },
      "source": [
        "### Question 10\n",
        "Train a Logistic Regression model using its tuned hyperparameter from gridsearch used above.\n",
        "When in doubt, use `C=1e-7` for LogReg.\n",
        "Pass the trained model to the provided plotting function. Interpret the results in detail. \n",
        "Why do you get multiple plots per model? What do the features represent in your data. \n",
        "Does it seems like the models pay attention to the right features?\n",
        "Do you models seem to ignore certain features? Do you observe differences in quality between the different classes?"
      ],
      "id": "shLuvJvWJzsc"
    },
    {
      "cell_type": "code",
      "execution_count": null,
      "metadata": {
        "id": "1oxLxK3qJzsd"
      },
      "outputs": [],
      "source": [
        "# Plots the coefficients of the given model as 28x28 heatmaps. \n",
        "# The `name` attribute is optional, it is simply a title for the produced figure\n",
        "def plot_coefficients(model, name=None):\n",
        "    fig, axes = plt.subplots(1,10,figsize=(20,2))\n",
        "    fig.suptitle(name if name else model.__class__.__name__)\n",
        "    for i, ax in enumerate(axes):\n",
        "        m = ax.imshow(model.coef_[i].reshape(28,28))\n",
        "        ax.set_xlabel(fmnist_classes[i])\n",
        "        ax.set_xticks(()), ax.set_yticks(())\n",
        "    fig.colorbar(m, ax=axes.ravel().tolist())"
      ],
      "id": "1oxLxK3qJzsd"
    },
    {
      "cell_type": "code",
      "execution_count": null,
      "metadata": {
        "id": "OGO7DjPvJzse"
      },
      "outputs": [],
      "source": [
        "##### Call on the function plot_coefficients using your trained model\n"
      ],
      "id": "OGO7DjPvJzse"
    },
    {
      "cell_type": "markdown",
      "metadata": {
        "id": "GeLQTvVIJzsf"
      },
      "source": [
        "**Hint** that linear models are typically binary classifiers. They will solve multi-class problems in a one-vs-all approach. Hence, for a 10-class problem, they will build 10 models, each one trained to predict whether an instance is from a specific class or not. This leads to 10 sets of 784 trained coefficients. Above, we plot them as 28x28 matrices, such that each coefficient is plotted at the location of their corresponding pixel value."
      ],
      "id": "GeLQTvVIJzsf"
    },
    {
      "cell_type": "markdown",
      "source": [
        "**Answer:**"
      ],
      "metadata": {
        "id": "jbYjLJ-XTG9s"
      },
      "id": "jbYjLJ-XTG9s"
    },
    {
      "cell_type": "markdown",
      "metadata": {
        "id": "5V55KXKOJzsf"
      },
      "source": [
        "### Question 11\n",
        "Finally, out of curiosity, let's see the result of underfitting and overfitting on the learned coefficients:\n",
        "Repeat the previous exercise, only with logistic regression. In addition to a tuned version, also add a model that overfits a lot and one that underfits a lot. Interpret and explain the results."
      ],
      "id": "5V55KXKOJzsf"
    },
    {
      "cell_type": "markdown",
      "metadata": {
        "id": "YQ4hPpFkJzsg"
      },
      "source": [
        "In the cell below replace the ####### with your trained models with different alphas."
      ],
      "id": "YQ4hPpFkJzsg"
    },
    {
      "cell_type": "code",
      "execution_count": null,
      "metadata": {
        "id": "rIbpggr1Jzsg"
      },
      "outputs": [],
      "source": [
        "plot_coefficients(#############,\"Underfitting logistic regression\")\n",
        "plot_coefficients(#############,\"Good fit logistic regression\")\n",
        "plot_coefficients(#############,\"Overfitting logistic regression\")"
      ],
      "id": "rIbpggr1Jzsg"
    },
    {
      "cell_type": "markdown",
      "metadata": {
        "id": "mBfrcVYVJzsg"
      },
      "source": [
        "**Answer:**"
      ],
      "id": "mBfrcVYVJzsg"
    }
  ],
  "metadata": {
    "kernelspec": {
      "display_name": "Python 3",
      "language": "python",
      "name": "python3"
    },
    "language_info": {
      "codemirror_mode": {
        "name": "ipython",
        "version": 3
      },
      "file_extension": ".py",
      "mimetype": "text/x-python",
      "name": "python",
      "nbconvert_exporter": "python",
      "pygments_lexer": "ipython3",
      "version": "3.9.5"
    },
    "colab": {
      "name": "Assignment-2 .ipynb",
      "provenance": []
    }
  },
  "nbformat": 4,
  "nbformat_minor": 5
}